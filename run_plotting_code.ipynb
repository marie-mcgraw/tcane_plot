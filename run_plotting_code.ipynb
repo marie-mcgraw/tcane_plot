{
 "cells": [
  {
   "cell_type": "code",
   "execution_count": 7,
   "id": "eecb96ec-149b-40c9-96dc-ec5d08ed7fc2",
   "metadata": {},
   "outputs": [],
   "source": [
    "import numpy as np\n",
    "import pandas as pd\n",
    "import os,glob,re,sys\n",
    "import matplotlib.pyplot as plt\n",
    "import seaborn as sns\n",
    "from io import StringIO\n",
    "import palettable\n",
    "from scipy.stats import skewnorm, rv_histogram\n",
    "import scipy.stats as sps\n",
    "import tcane_data_funcs\n",
    "import tcane_plotting\n",
    "import bdeck_edeck_funcs"
   ]
  },
  {
   "cell_type": "code",
   "execution_count": 2,
   "id": "2aebc697-e099-41ef-a0e0-9a1b681088ff",
   "metadata": {},
   "outputs": [],
   "source": []
  },
  {
   "cell_type": "code",
   "execution_count": 5,
   "id": "f4602cf4-e41b-41ba-9205-a0845664cf6e",
   "metadata": {},
   "outputs": [],
   "source": [
    "def call_TCANE_plotting(date,in_dir,out_dir,clim_dir,bdeck_dir):\n",
    "    old_stdout = sys.stdout\n",
    "    log_file = open(\"log_files/{fdate}.log\".format(fdate=date),\"w\")\n",
    "    sys.stdout = log_file\n",
    "    bas_ab = date[0:2].lower()\n",
    "    # Get dataframes\n",
    "    df_climo = tcane_data_funcs.climo_to_df(clim_dir+'tcane_climo_format_{ba}.dat'.format(ba=bas_ab))\n",
    "    df_out = tcane_data_funcs.read_in_TCANE(out_dir+'{ex_date}_tcane_output.dat'.format(ex_date=date))\n",
    "    df_in = tcane_data_funcs.read_in_TCANE(in_dir+'{ex_date}_tcane_input.dat'.format(ex_date=date))    \n",
    "    # Mask and convert str to float\n",
    "    df_out.iloc[:,6:-1] = df_out.iloc[:,6:-1].astype('float')\n",
    "    df_in.iloc[:,5:-1] = df_in.iloc[:,5:-1].astype('float')\n",
    "    df_out = df_out.mask(df_out == -9999.0)\n",
    "    df_in = df_in.mask(df_in == -9999.0)\n",
    "    df_in = df_in[df_in['FHOUR'].isin(df_out['FHOUR'])]\n",
    "    #\n",
    "    df_out['Forecast Date'] = df_out['DATE'] + pd.to_timedelta(df_out['FHOUR'],'H')\n",
    "    # Get all plotting data\n",
    "    pvc = [.01,.05,.1,.25,.5,.75,.9,.95,.99]\n",
    "    vmax = df_out['VMAXN'].max()\n",
    "    Y_e,Y_l,pdf_e,pdf_l,pct_e,pct_l,RI_e,TC_e,RI_l,TC_l = tcane_plotting.make_all_plotting_data(df_in,df_out,vmax,pvc)\n",
    "    #\n",
    "    c_Y_e,c_Y_l,c_pdf_e,c_pdf_l,c_pct_e,c_pct_l,c_RI_e,c_TC_e,c_RI_l,c_TC_l = tcane_plotting.make_all_plotting_data(df_in,df_climo,vmax,pvc)\n",
    "    ## Make plots\n",
    "    target_savedir = 'Figures/{date}'.format(date=date)\n",
    "    if not os.path.isdir(target_savedir):\n",
    "        os.mkdir(target_savedir)\n",
    "    #\n",
    "    fig1,ax1 = plt.subplots(1,1,figsize=(12,7))\n",
    "    ax1 = tcane_plotting.make_boxplot(ax1,Y_e,Y_l,df_in,[1,99])\n",
    "    ax1.set_title('TCANE Forecasts, {name}, {ex_date}'.format(name=df_in.iloc[0]['NAME'],ex_date=date),fontsize=26)\n",
    "    fig1.savefig('{target_savedir}/boxplot_{name}_{exdate}.pdf'.format(target_savedir=target_savedir,name=df_in.iloc[0]['NAME'],exdate=date),format='pdf',bbox_inches='tight')\n",
    "    fig1.savefig('{target_savedir/}boxplot_{name}_{exdate}.png'.format(target_savedir=target_savedir,\n",
    "                                    name=df_in.iloc[0]['NAME'],exdate=date),format='png',dpi=400,bbox_inches='tight')\n",
    "    plt.close()\n",
    "    ###\n",
    "    fig20,(ax20,ax20b) = plt.subplots(1,2,figsize=(15,6))\n",
    "    ax20 = tcane_plotting.get_cat_probs(ax20,TC_e,c_TC_e,df_in,'erly')\n",
    "    ax20b = tcane_plotting.get_cat_probs(ax20b,TC_l,c_TC_l,df_in,'late')\n",
    "    fig20.suptitle('{name}, {exdate}'.format(name=df_in.iloc[0]['NAME'],exdate=date),fontsize=35,y=1.05)\n",
    "    fig20.tight_layout()\n",
    "    fig20.savefig('{target_savedir}/pr_cat_{name}_{exdate}.pdf'.format(target_savedir=target_savedir,name=df_in.iloc[0]['NAME'],exdate=date),format='pdf',bbox_inches='tight')\n",
    "    fig20.savefig('{target_savedir}/pr_cat_{name}_{exdate}.png'.format(target_savedir=target_savedir,name=df_in.iloc[0]['NAME'],exdate=date),format='png',dpi=400,bbox_inches='tight')\n",
    "    plt.close()\n",
    "    ###\n",
    "    fig2,ax2 = plt.subplots(1,1,figsize=(10,6))\n",
    "    RI_all = pd.concat([RI_e,RI_l])\n",
    "    edeck_all = bdeck_edeck_funcs.get_edeck_probs(bdeck_dir,date,bas_ab,['RIOC','RIOD','DTOP'])\n",
    "    ax2 = tcane_plotting.plot_RI(ax2,RI_all,edeck_all)\n",
    "    ax2.set_title('Prob. of RI for {name} ({exdate})'.format(name=df_in.iloc[0]['NAME'],exdate=date),fontsize=28)\n",
    "    fig2.savefig('{target_savedir}/pr_RI_{name}_{exdate}_with_edeck.pdf'.format(target_savedir=target_savedir,name=df_in.iloc[0]['NAME'],exdate=date),format='pdf',bbox_inches='tight')\n",
    "    fig2.savefig('{target_savedir}/pr_RI_{name}_{exdate}_with_edeck.png'.format(target_savedir=target_savedir,name=df_in.iloc[0]['NAME'],exdate=date),format='png',dpi=400,bbox_inches='tight')\n",
    "    plt.close()\n",
    "    ###\n",
    "    fig22,ax22 = plt.subplots(1,1,figsize=(10,6))\n",
    "    ax22 = tcane_plotting.plot_RI(ax22,RI_all)\n",
    "    ax22.set_title('Prob. of RI for {name} ({exdate})'.format(name=df_in.iloc[0]['NAME'],exdate=date),fontsize=28)\n",
    "    fig22.savefig('{target_savedir}/pr_RI_{name}_{exdate}.pdf'.format(target_savedir=target_savedir,name=df_in.iloc[0]['NAME'],exdate=date),format='pdf',bbox_inches='tight')\n",
    "    fig22.savefig('{target_savedir}/pr_RI_{name}_{exdate}.png'.format(target_savedir=target_savedir,name=df_in.iloc[0]['NAME'],exdate=date),format='png',dpi=400,bbox_inches='tight')\n",
    "    plt.close()\n",
    "    ### Get bdecks\n",
    "    b_deck_ALL,b_deck_trim = bdeck_edeck_funcs.get_bdecks(date[4:8],date[2:4],bas_ab,bdeck_dir)\n",
    "    ##\n",
    "    fig3,(ax3,ax3b) = plt.subplots(1,2,figsize=(15,8))\n",
    "    pct_all = pd.concat([pct_e,pct_l])\n",
    "    ax3 = tcane_plotting.make_pctile_plot(ax3,pct_all,'erly',df_out,df_in,b_deck_trim)\n",
    "    ax3b = tcane_plotting.make_pctile_plot(ax3b,pct_all,'late',df_out,df_in,b_deck_trim)\n",
    "    fig3.suptitle('TCANE Forecasts, {name}, {ex_date}'.format(target_savedir=target_savedir,name=df_in.iloc[0]['NAME'],ex_date=date),fontsize=36,y=1.02)\n",
    "    fig3.tight_layout()\n",
    "    fig3.savefig('{target_savedir}/p1-99_{name}_{exdate}_with_BTR.pdf'.format(target_savedir=target_savedir,name=df_in.iloc[0]['NAME'],exdate=date),format='pdf',bbox_inches='tight')\n",
    "    fig3.savefig('{target_savedir}/p1-99_{name}_{exdate}_with_BTR.png'.format(target_savedir=target_savedir,name=df_in.iloc[0]['NAME'],exdate=date),format='png',dpi=400,bbox_inches='tight')\n",
    "    plt.close()\n",
    "    ###\n",
    "    fig33,(ax33,ax33b) = plt.subplots(1,2,figsize=(15,8))\n",
    "    ax33 = tcane_plotting.make_pctile_plot(ax33,pct_all,'erly',df_out,df_in)\n",
    "    ax33b = tcane_plotting.make_pctile_plot(ax33b,pct_all,'late',df_out,df_in)\n",
    "    fig33.suptitle('TCANE Forecasts, {name}, {ex_date}'.format(name=df_in.iloc[0]['NAME'],ex_date=date),fontsize=36,y=1.02)\n",
    "    fig33.tight_layout()\n",
    "    fig33.savefig('{target_savedir}/p1-99_{name}_{exdate}.pdf'.format(target_savedir=target_savedir,name=df_in.iloc[0]['NAME'],exdate=date),format='pdf',bbox_inches='tight')\n",
    "    fig33.savefig('{target_savedir}/p1-99_{name}_{exdate}.png'.format(target_savedir=target_savedir,name=df_in.iloc[0]['NAME'],exdate=date),format='png',dpi=400,bbox_inches='tight')\n",
    "    plt.close()\n",
    "    #\n",
    "    sys.stdout = old_stdout\n",
    "    log_file.close()\n",
    "    return "
   ]
  },
  {
   "cell_type": "markdown",
   "id": "6b20cf61-d43c-4259-b1ba-8cd0bdb35f48",
   "metadata": {},
   "source": [
    "##### * `sys.argv[1]`: forecast date (BBNNYYYY_MMDDHH)\n",
    "##### * `sys.argv[2]`: input directory (location of TCANE input files)\n",
    "##### * `sys.argv[3]`: output directory (location of TCANE output files)\n",
    "##### * `sys.argv[4]`: bdeck directory (location of bdeck files)\n"
   ]
  },
  {
   "cell_type": "code",
   "execution_count": null,
   "id": "60ff4347-5387-4a26-ad2f-2fa10c5001c2",
   "metadata": {},
   "outputs": [],
   "source": [
    "# output_dir = '/mnt/ssd-data1/galina/tcane/data/test_output/'\n",
    "climo_dir = '/mnt/ssd-data1/galina/tcane/data/climo/'\n",
    "# input_dir = '/mnt/ssd-data1/galina/tcane/data/test_input/'\n",
    "# bdeck_dir = '/home/mcgraw/tcane_RT_output/best_tracks/'\n",
    "\n",
    "# ex_date = 'EP052022_071012'\n",
    "# ex_date = 'AL032023_062018'\n",
    "# ex_date = 'AL072022_091612'\n",
    "#"
   ]
  },
  {
   "cell_type": "code",
   "execution_count": 6,
   "id": "ff086409-eda6-49f6-9237-df9201ab0ebf",
   "metadata": {},
   "outputs": [
    {
     "name": "stdout",
     "output_type": "stream",
     "text": [
      "/home/mcgraw/tcane_RT_output/best_tracks/eep052022.dat\n"
     ]
    }
   ],
   "source": [
    "call_TCANE_plotting(ex_date,input_dir,output_dir,climo_dir,bdeck_dir)"
   ]
  },
  {
   "cell_type": "code",
   "execution_count": null,
   "id": "81c81484-f88b-4cbd-b3e9-7e9a806c7378",
   "metadata": {},
   "outputs": [],
   "source": []
  }
 ],
 "metadata": {
  "kernelspec": {
   "display_name": "Python 3 (ipykernel)",
   "language": "python",
   "name": "python3"
  },
  "language_info": {
   "codemirror_mode": {
    "name": "ipython",
    "version": 3
   },
   "file_extension": ".py",
   "mimetype": "text/x-python",
   "name": "python",
   "nbconvert_exporter": "python",
   "pygments_lexer": "ipython3",
   "version": "3.9.17"
  }
 },
 "nbformat": 4,
 "nbformat_minor": 5
}
